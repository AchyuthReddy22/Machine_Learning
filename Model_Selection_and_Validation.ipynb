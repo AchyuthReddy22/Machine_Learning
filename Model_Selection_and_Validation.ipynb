{
  "cells": [
    {
      "cell_type": "markdown",
      "id": "5a376af5",
      "metadata": {
        "id": "5a376af5"
      },
      "source": [
        "# Team Members Names:\n",
        "    1. Achyuth Reddy Kanumanthu (11664532)\n",
        "    2. Yuvaraj Sriramoju(11710243)"
      ]
    },
    {
      "cell_type": "code",
      "execution_count": 1,
      "id": "8a2b4e0c",
      "metadata": {
        "id": "8a2b4e0c"
      },
      "outputs": [],
      "source": [
        "import numpy as np\n",
        "from sklearn import datasets\n",
        "import math\n",
        "import pandas as pd\n",
        "from sklearn.model_selection import train_test_split, GridSearchCV\n",
        "from sklearn.metrics import confusion_matrix, accuracy_score\n",
        "from warnings import filterwarnings\n",
        "filterwarnings(\"ignore\")\n",
        "\n",
        "# Load data\n",
        "data = datasets.load_digits()\n",
        "n_samples = len(data.images)\n",
        "data_final = data.images.reshape((n_samples, -1))\n",
        "\n",
        "# Split data into 80% train and 20% test subsets\n",
        "X_train, X_test, y_train, y_test = train_test_split(data_final, data.target, test_size=0.2, shuffle=False)\n",
        "\n",
        "results_data_frame=pd.DataFrame(columns=['Model','Default_validation_accuracy','Tuned_validation_accuracy',\n",
        "                                         'Selected hyperparameters','Final test set accuracy'])"
      ]
    },
    {
      "cell_type": "markdown",
      "id": "01d2c63a",
      "metadata": {
        "id": "01d2c63a"
      },
      "source": [
        "# Support Vector Machine"
      ]
    },
    {
      "cell_type": "code",
      "execution_count": 2,
      "id": "842a6ed3",
      "metadata": {
        "id": "842a6ed3"
      },
      "outputs": [],
      "source": [
        "# SVM Default Parameters\n",
        "model='SVM'\n",
        "from sklearn.svm import SVC\n",
        "svm_model=SVC()\n",
        "svm_model.fit(X_train,y_train)\n",
        "default_acc=np.round(accuracy_score(y_train,svm_model.predict(X_train))*100,2)\n",
        "\n",
        "# Creating SVM With GridSearchCV\n",
        "\n",
        "svm_model2 = SVC()\n",
        "\n",
        "hyper_param = {\n",
        "    'gamma': [10**x for x in range(-5, 6)],\n",
        "    'C': [10**x for x in range(-5, 6)]\n",
        "}\n",
        "grid_search = GridSearchCV(svm_model2, hyper_param, cv=5, scoring='accuracy')\n",
        "grid_search.fit(X_train,y_train)\n",
        "\n",
        "dict_para=grid_search.best_params_\n",
        "\n",
        "# Model with best parameters\n",
        "model3=SVC(gamma=dict_para.get('gamma'),C=dict_para.get('C'))\n",
        "model3.fit(X_train,y_train)\n",
        "tuning_acc=np.round(accuracy_score(y_train,model3.predict(X_train))*100,2)\n",
        "test_acc=np.round(accuracy_score(y_test,model3.predict(X_test))*100,2)\n",
        "results_data_frame=results_data_frame._append({'Model':model,'Default_validation_accuracy':default_acc,\n",
        "                                               'Tuned_validation_accuracy':tuning_acc,\n",
        "                                               'Selected hyperparameters':grid_search.best_params_,\n",
        "                                               'Final test set accuracy':test_acc},ignore_index=True)"
      ]
    },
    {
      "cell_type": "markdown",
      "id": "281d174c",
      "metadata": {
        "id": "281d174c"
      },
      "source": [
        "# K-NN Model"
      ]
    },
    {
      "cell_type": "code",
      "execution_count": 3,
      "id": "094ac80f",
      "metadata": {
        "id": "094ac80f"
      },
      "outputs": [],
      "source": [
        "from sklearn.neighbors import KNeighborsClassifier\n",
        "Current_model='K-NN'\n",
        "default_model=KNeighborsClassifier()\n",
        "default_model.fit(X_train,y_train)\n",
        "default_model_acc=np.round(accuracy_score(y_train,default_model.predict(X_train))*100,2)\n",
        "\n",
        "\n",
        "# Creating KNN With GridSearchCV\n",
        "knn_model2 = KNeighborsClassifier()\n",
        "hyper_param = {\n",
        "    'n_neighbors': [1,3,5,7,9]\n",
        "}\n",
        "\n",
        "grid_search = GridSearchCV(knn_model2, hyper_param, cv=5, scoring='accuracy')\n",
        "grid_search.fit(X_train,y_train)\n",
        "\n",
        "dict_para=grid_search.best_params_\n",
        "knn_model3=KNeighborsClassifier(n_neighbors=dict_para.get('n_neighbors'))\n",
        "knn_model3.fit(X_train,y_train)\n",
        "tuning_acc=np.round(accuracy_score(y_train,knn_model3.predict(X_train))*100,2)\n",
        "test_acc=np.round(accuracy_score(y_test,knn_model3.predict(X_test))*100,2)\n",
        "results_data_frame=results_data_frame._append({'Model':Current_model,'Default_validation_accuracy':default_model_acc,\n",
        "                                               'Tuned_validation_accuracy':tuning_acc,\n",
        "                                               'Selected hyperparameters':grid_search.best_params_,\n",
        "                                               'Final test set accuracy':test_acc},ignore_index=True)"
      ]
    },
    {
      "cell_type": "markdown",
      "id": "e9582415",
      "metadata": {
        "id": "e9582415"
      },
      "source": [
        "# Decision Trees"
      ]
    },
    {
      "cell_type": "code",
      "execution_count": 4,
      "id": "1ea64d2e",
      "metadata": {
        "id": "1ea64d2e"
      },
      "outputs": [],
      "source": [
        "\n",
        "from sklearn.tree import DecisionTreeClassifier\n",
        "Current_model='Decision Trees'\n",
        "default_model=DecisionTreeClassifier()\n",
        "default_model.fit(X_train,y_train)\n",
        "default_model_acc=np.round(accuracy_score(y_train,default_model.predict(X_train))*100,2)\n",
        "\n",
        "\n",
        "# Creating DTC With GridSearchCV\n",
        "\n",
        "knn_model2 = DecisionTreeClassifier()\n",
        "\n",
        "hyper_param = {\n",
        "    'min_samples_split' : [3,5,7,9]\n",
        "}\n",
        "grid_search = GridSearchCV(knn_model2, hyper_param, cv=5, scoring='accuracy')\n",
        "grid_search.fit(X_train,y_train)\n",
        "\n",
        "dict_para=grid_search.best_params_\n",
        "\n",
        "dtc_model3=DecisionTreeClassifier(min_samples_split=dict_para.get('min_samples_split'))\n",
        "dtc_model3.fit(X_train,y_train)\n",
        "\n",
        "tuning_acc=np.round(accuracy_score(y_train,dtc_model3.predict(X_train))*100,2)\n",
        "test_acc=np.round(accuracy_score(y_test,dtc_model3.predict(X_test))*100,2)\n",
        "results_data_frame=results_data_frame._append({'Model':Current_model,'Default_validation_accuracy':default_model_acc,\n",
        "                                               'Tuned_validation_accuracy':tuning_acc,\n",
        "                                               'Selected hyperparameters':grid_search.best_params_,\n",
        "                                               'Final test set accuracy':test_acc},ignore_index=True)"
      ]
    },
    {
      "cell_type": "markdown",
      "id": "a8d86618",
      "metadata": {
        "id": "a8d86618"
      },
      "source": [
        "# Logistic Regression"
      ]
    },
    {
      "cell_type": "code",
      "execution_count": 5,
      "id": "9c7339ca",
      "metadata": {
        "colab": {
          "base_uri": "https://localhost:8080/",
          "height": 0
        },
        "id": "9c7339ca",
        "outputId": "cf5bf7af-ee00-4f66-ce35-56582b198362"
      },
      "outputs": [
        {
          "output_type": "stream",
          "name": "stdout",
          "text": [
            "100.0\n"
          ]
        }
      ],
      "source": [
        "\n",
        "from sklearn.linear_model import LogisticRegression\n",
        "Current_model='Logistic Regression'\n",
        "default_model=LogisticRegression()\n",
        "default_model.fit(X_train,y_train)\n",
        "default_model_acc=np.round(accuracy_score(y_train,default_model.predict(X_train))*100,2)\n",
        "print(default_model_acc)\n",
        "\n",
        "# Creating LR With GridSearchCV\n",
        "\n",
        "knn_model2 = LogisticRegression()\n",
        "\n",
        "hyper_param = {\n",
        "    'C' : [10**x for x in (-5,5)]\n",
        "}\n",
        "grid_search = GridSearchCV(knn_model2, hyper_param, cv=5, scoring='accuracy')\n",
        "grid_search.fit(X_train,y_train)\n",
        "\n",
        "dict_para=grid_search.best_params_\n",
        "\n",
        "lr_model3=LogisticRegression(C=dict_para.get('C'))\n",
        "lr_model3.fit(X_train,y_train)\n",
        "tuning_acc=np.round(accuracy_score(y_train,lr_model3.predict(X_train))*100,2)\n",
        "test_acc=np.round(accuracy_score(y_test,lr_model3.predict(X_test))*100,2)\n",
        "results_data_frame=results_data_frame._append({'Model':Current_model,'Default_validation_accuracy':default_model_acc,\n",
        "                                               'Tuned_validation_accuracy':tuning_acc,\n",
        "                                               'Selected hyperparameters':grid_search.best_params_,\n",
        "                                               'Final test set accuracy':test_acc},ignore_index=True)"
      ]
    },
    {
      "cell_type": "code",
      "execution_count": 6,
      "id": "2510c7a9",
      "metadata": {
        "colab": {
          "base_uri": "https://localhost:8080/",
          "height": 0
        },
        "id": "2510c7a9",
        "outputId": "800176d5-f22a-4cc4-97dc-13f8f5a342ec"
      },
      "outputs": [
        {
          "output_type": "stream",
          "name": "stdout",
          "text": [
            "                 Model  Default_validation_accuracy  \\\n",
            "0                  SVM                        99.79   \n",
            "1                 K-NN                        99.10   \n",
            "2       Decision Trees                       100.00   \n",
            "3  Logistic Regression                       100.00   \n",
            "\n",
            "   Tuned_validation_accuracy   Selected hyperparameters  \\\n",
            "0                     100.00  {'C': 10, 'gamma': 0.001}   \n",
            "1                     100.00         {'n_neighbors': 1}   \n",
            "2                      99.03   {'min_samples_split': 3}   \n",
            "3                     100.00              {'C': 100000}   \n",
            "\n",
            "   Final test set accuracy  \n",
            "0                    96.39  \n",
            "1                    95.56  \n",
            "2                    79.17  \n",
            "3                    90.56  \n"
          ]
        }
      ],
      "source": [
        "print(results_data_frame)"
      ]
    }
  ],
  "metadata": {
    "kernelspec": {
      "display_name": "Python 3 (ipykernel)",
      "language": "python",
      "name": "python3"
    },
    "language_info": {
      "codemirror_mode": {
        "name": "ipython",
        "version": 3
      },
      "file_extension": ".py",
      "mimetype": "text/x-python",
      "name": "python",
      "nbconvert_exporter": "python",
      "pygments_lexer": "ipython3",
      "version": "3.11.4"
    },
    "colab": {
      "provenance": []
    }
  },
  "nbformat": 4,
  "nbformat_minor": 5
}